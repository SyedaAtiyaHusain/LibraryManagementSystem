{
 "cells": [
  {
   "cell_type": "code",
   "execution_count": 1,
   "metadata": {},
   "outputs": [],
   "source": [
    "\n",
    "from student import *\n",
    "from faculty import *\n",
    "from book import *\n",
    "from datetime import date\n",
    "import pickle\n",
    "ls=[]\n",
    "lf=[]\n",
    "lb=[]\n",
    "def add_student():\n",
    "    name=input(\"Enter the name of the student:\")\n",
    "    branch=input(\"Enter the branch of the student:\")\n",
    "    while True:\n",
    "        add_year=input(\"Enter the addmission year:\")\n",
    "        if int(add_year) > date.today().year:\n",
    "            print(\"Invalid Admission Year!!\")\n",
    "        else:\n",
    "            break\n",
    "    while True:\n",
    "        ad_id_no=input(\"Enter the addmission id number:\")\n",
    "        if len(ad_id_no)!=4:\n",
    "            print(\"Invalid Admission Id!!\")\n",
    "        else:\n",
    "            break\n",
    "    if len(add_year)==4:\n",
    "        r_no=\"0187\"+branch+add_year[2:]+ad_id_no\n",
    "    else:\n",
    "        r_no=\"0187\"+branch+add_year+ad_id_no \n",
    "    if(check_student(r_no)):\n",
    "            print(\"Student already exists!!\")\n",
    "    else:\n",
    "        s=Student(name,branch,add_year,ad_id_no,r_no)\n",
    "        ls.append(s)\n",
    "        with open(\"student_record.pkl\",\"wb\") as f:\n",
    "            pickle.dump(ls,f)    \n",
    "\n",
    "def check_student(r_no):\n",
    "    try:\n",
    "        with open(\"student_record.pkl\",\"rb\") as f:\n",
    "            obj=pickle.load(f)\n",
    "            i=0\n",
    "            while True:\n",
    "                try:\n",
    "                    if obj[i].rollno==r_no:\n",
    "                        return True\n",
    "                    i+=1\n",
    "                except (EOFError,IndexError):\n",
    "                    return False\n",
    "    except:\n",
    "        return False\n",
    "#3\n",
    "def print_student():\n",
    "    try:\n",
    "        with open(\"student_record.pkl\",\"rb\") as f:\n",
    "            obj=pickle.load(f)\n",
    "            i=0\n",
    "            while True:\n",
    "                try:\n",
    "                    display_student(obj[i])\n",
    "                    i+=1\n",
    "                except:\n",
    "                    break\n",
    "    except:\n",
    "        print(\"No Record Found\")\n",
    "#4\n",
    "def display_student(obj):\n",
    "    print(f\"Name:{obj.s_name}\")\n",
    "    print(f\"Branch:{obj.branch}\")\n",
    "    print(f\"Admission ID number:{obj.adm_id_no}\")\n",
    "    print(f\"Admission year:{obj.adm_year}\")\n",
    "    print(f\"Roll number:{obj.rollno}\")\n",
    "    if obj.student_dict is {}:\n",
    "        print(\"No Book Issued\")\n",
    "    else:\n",
    "        print(f\"Books issued:{obj.student_dict}\")\n",
    "    print(f\"Total number of book issued:{obj.s_bookissued}\")\n",
    "#5\n",
    "def add_faculty():\n",
    "    name=input(\"Enter faculty name: \")    \n",
    "    while True:\n",
    "        fac_id=input(\"Enter the Faculty Id:\")\n",
    "        if len(fac_id)!=5:\n",
    "            print(\"Invalid Faculty Id!!\")\n",
    "        else:\n",
    "            break\n",
    "    if(check_faculty(fac_id)):\n",
    "            print(\"Faculty already exists!!\")\n",
    "    else:\n",
    "        fac=Faculty(name,fac_id)\n",
    "        lf.append(fac)\n",
    "        with open(\"faculty_record.pkl\",\"wb\") as f:\n",
    "            pickle.dump(lf,f)\n",
    "    \n",
    "def check_faculty(fac_id):\n",
    "    try:\n",
    "        with open(\"faculty_record.pkl\",\"rb\") as f:\n",
    "            obj=pickle.load(f)\n",
    "            i=0\n",
    "            while True:\n",
    "                try:\n",
    "                    if obj[i].eid==fac_id:\n",
    "                        return True\n",
    "                    i+=1\n",
    "                except (EOFError,IndexError):\n",
    "                    return False\n",
    "    except:\n",
    "        return False\n",
    "def display_faculty(obj):\n",
    "    print(f\"Faculty name:{obj.ename}\")\n",
    "    print(f\"Faculty ID:{obj.eid}\")\n",
    "    print(f\"Book issued:{obj.fac_dict}\")\n",
    "def print_faculty():\n",
    "    try:\n",
    "        with open(\"faculty_record.pkl\",\"rb\") as f:\n",
    "            l=pickle.load(f)\n",
    "            i=0\n",
    "            while True:\n",
    "                try:\n",
    "                    display_faculty(l[i])\n",
    "                    i+=1\n",
    "                except:\n",
    "                    break\n",
    "    except:\n",
    "        print(\"No Record Found!\")\n",
    "#8\n",
    "def add_book():\n",
    "    title=input(\"Enter the title of the book:\")\n",
    "    author=input(\"Enter the author of the book:\")\n",
    "    while True:\n",
    "        isbn=input(\"Enter the International standard book number:\")\n",
    "        if len(isbn)!=13:\n",
    "            print(\"Invalid!!Try again\")\n",
    "        else:break\n",
    "    copies=int(input(\"Enter the number of copies:\"))\n",
    "    if check_book(isbn,copies):\n",
    "        pass\n",
    "    else:\n",
    "        b=Book(title,author,isbn,copies)\n",
    "        lb.append(b)\n",
    "        with open(\"book_record.pkl\",\"wb\") as f:\n",
    "            pickle.dump(lb,f)\n",
    "def check_book(isbn,copies):\n",
    "    try:\n",
    "        with open(\"book_record.pkl\",\"rb\") as f:\n",
    "            obj=pickle.load(f)\n",
    "            i=0\n",
    "            while True:\n",
    "                try:\n",
    "                    if obj[i].isbn==isbn:\n",
    "                        obj[i].copies+=copies\n",
    "                        with open(\"book_record.pkl\",\"wb\") as f:\n",
    "                            pickle.dump(obj,f)\n",
    "                        return True\n",
    "                    i+=1\n",
    "                except:\n",
    "                    return False\n",
    "    except:\n",
    "        return False\n",
    "\n",
    "def print_book():\n",
    "    try:\n",
    "        with open(\"book_record.pkl\",\"rb\") as f:\n",
    "            l=pickle.load(f)\n",
    "            i=0\n",
    "            while True:\n",
    "                try:\n",
    "                    display_book(l[i])\n",
    "                    i+=1\n",
    "                except:\n",
    "                    break\n",
    "    except:\n",
    "        print(\"No Record Found!\")\n",
    "def display_book(obj):\n",
    "    print(f\"Title:{obj.title}\")\n",
    "    print(f\"Author:{obj.author}\")\n",
    "    print(f\"ISBN:{obj.isbn}\")\n",
    "    print(f\"Number of copies:{obj.copies}\")\n",
    "    \n",
    "    "
   ]
  },
  {
   "cell_type": "code",
   "execution_count": null,
   "metadata": {
    "scrolled": true
   },
   "outputs": [],
   "source": []
  },
  {
   "cell_type": "code",
   "execution_count": 2,
   "metadata": {},
   "outputs": [],
   "source": [
    "import datetime\n",
    "def issue_book_student():\n",
    "    rollno=input(\"Enter roll number of the student:\")\n",
    "    if check_student(rollno):\n",
    "        if check_std_limit(rollno):\n",
    "            isbn=input(\"Enter the isbn number of the book to be issued:\")\n",
    "            if not availability_of_book(isbn):\n",
    "                print(\"Either book is not present or all copies are issued to others\")\n",
    "            elif already_have(isbn,rollno):\n",
    "                print(\"This student already has the one copy of this book\")\n",
    "            else:\n",
    "                l=[x for x in str(datetime.date.today()).split(\"-\")]\n",
    "                modify_student_issue(rollno,isbn,l)\n",
    "                modify_book_issue(isbn,1)\n",
    "        else:\n",
    "            print(\"Student has reached the book limit.Cannot issue the book\")\n",
    "    else:\n",
    "        print(\"Student not found!! Cannot issue book\")\n",
    "def modify_student_issue(rollno,isbn,l):\n",
    "    with open(\"student_record.pkl\",\"rb\") as f:\n",
    "        obj=pickle.load(f)\n",
    "        i=0\n",
    "        while True:\n",
    "            try:\n",
    "                if obj[i].rollno==rollno:\n",
    "                    obj[i].student_dict[isbn]=l\n",
    "                    obj[i].s_bookissued+=1\n",
    "                    with open(\"student_record.pkl\",\"wb\") as f:\n",
    "                        pickle.dump(obj,f)\n",
    "                    break\n",
    "                i+=1\n",
    "            except:\n",
    "                pass\n",
    "def modify_book_issue(isbn,copies):\n",
    "    with open(\"book_record.pkl\",\"rb\") as f:\n",
    "        obj=pickle.load(f)\n",
    "        i=0\n",
    "        while True:\n",
    "            try:\n",
    "                if obj[i].isbn==isbn:\n",
    "                    obj[i].copies-=copies\n",
    "                    with open(\"book_record.pkl\",\"wb\") as f:\n",
    "                        pickle.dump(obj,f)\n",
    "                    break\n",
    "                i+=1\n",
    "            except:\n",
    "                pass\n",
    "        "
   ]
  },
  {
   "cell_type": "code",
   "execution_count": 3,
   "metadata": {},
   "outputs": [],
   "source": [
    "def check_std_limit(rollno):\n",
    "    with open(\"student_record.pkl\",\"rb\") as f:\n",
    "        obj=pickle.load(f)\n",
    "        i=0\n",
    "        while True:\n",
    "            try:\n",
    "                if obj[i].rollno==rollno and obj[i].s_bookissued>=5:\n",
    "                    return False\n",
    "                else:\n",
    "                    return True\n",
    "                i+=1\n",
    "            except:\n",
    "                pass\n",
    "def availability_of_book(isbn):\n",
    "    with open(\"book_record.pkl\",\"rb\") as f:\n",
    "        obj=pickle.load(f)\n",
    "        i=0\n",
    "        while True:\n",
    "            try:\n",
    "                if obj[i].isbn==isbn and obj[i].copies>0:\n",
    "                    return True\n",
    "                i+=1\n",
    "            except:\n",
    "                return False  \n",
    "def already_have(isbn,rollno):\n",
    "    with open(\"student_record.pkl\",\"rb\") as f:\n",
    "        obj=pickle.load(f)\n",
    "        i=0\n",
    "        while True:\n",
    "            try:\n",
    "                if obj[i].rollno==rollno and isbn in obj[i].student_dict:\n",
    "                    return True\n",
    "                i+=1\n",
    "            except:\n",
    "                return False\n",
    "        "
   ]
  },
  {
   "cell_type": "code",
   "execution_count": 48,
   "metadata": {},
   "outputs": [
    {
     "name": "stdout",
     "output_type": "stream",
     "text": [
      "Enter the name of the student:attu\n",
      "Enter the branch of the student:cs\n",
      "Enter the addmission year:17\n",
      "Enter the addmission id number:1111\n"
     ]
    }
   ],
   "source": [
    "add_student()"
   ]
  },
  {
   "cell_type": "code",
   "execution_count": 49,
   "metadata": {},
   "outputs": [
    {
     "name": "stdout",
     "output_type": "stream",
     "text": [
      "Enter roll number of the student:0187cs171111\n",
      "Enter the isbn number of the book to be issued:1234567890123\n"
     ]
    }
   ],
   "source": [
    "issue_book_student()\n"
   ]
  },
  {
   "cell_type": "code",
   "execution_count": 4,
   "metadata": {},
   "outputs": [],
   "source": [
    "def return_book_student():\n",
    "    rollno=input(\"Enter the rollno of the student:\")\n",
    "    if check_student(rollno):\n",
    "        isbn=input(\"Enter isbn:\")\n",
    "        if already_have(isbn,rollno):\n",
    "            modify_student_return1(rollno,isbn)\n",
    "            modify_book_return1(isbn,1)\n",
    "        else:\n",
    "            print(\"Book with this isbn is not issued to this student\")\n",
    "    else:\n",
    "        print(\"Student not found\")\n",
    "def already_have(isbn,rollno):\n",
    "    with open(\"student_record.pkl\",\"rb\") as f:\n",
    "        obj=pickle.load(f)\n",
    "        i=0\n",
    "        while True:\n",
    "            try:\n",
    "                if obj[i].rollno==rollno and isbn in obj[i].student_dict:\n",
    "                    return True\n",
    "                i+=1\n",
    "            except:\n",
    "                return False\n",
    "        "
   ]
  },
  {
   "cell_type": "code",
   "execution_count": 7,
   "metadata": {},
   "outputs": [],
   "source": [
    "#==============================================================\n",
    "def modify_student_return1(rollno,isbn):\n",
    "    with open(\"student_record.pkl\",\"rb\") as f:\n",
    "        obj=pickle.load(f)\n",
    "        i=0\n",
    "        while True:\n",
    "            try:\n",
    "                if obj[i].rollno==rollno:\n",
    "                    with open(\"student_record.pkl\",\"wb\") as f:\n",
    "                        del obj[i].student_dict[isbn]\n",
    "                        obj.s_bookissued-=1\n",
    "                        pickle.dump(obj,f)\n",
    "                    break\n",
    "                i+=1\n",
    "            except:\n",
    "                break\n",
    "def modify_book_return1(isbn,copies):\n",
    "    with open(\"book_record.pkl\",\"rb\") as f:\n",
    "        obj=pickle.load(f)\n",
    "        i=0\n",
    "        while True:\n",
    "            try:\n",
    "                if obj[i].isbn==isbn:\n",
    "                    with open(\"book_record.pkl\",\"wb\") as f:\n",
    "                        obj[i].copies+=copies\n",
    "                        pickle.dump(obj,f)\n",
    "                    break\n",
    "                i+=1\n",
    "            except:\n",
    "                break\n",
    "\n",
    "    \n",
    "            "
   ]
  },
  {
   "cell_type": "code",
   "execution_count": 5,
   "metadata": {},
   "outputs": [
    {
     "name": "stdout",
     "output_type": "stream",
     "text": [
      "Enter the name of the student:atiya\n",
      "Enter the branch of the student:cs\n",
      "Enter the addmission year:17\n",
      "Enter the addmission id number:1111\n"
     ]
    }
   ],
   "source": [
    "add_student()"
   ]
  },
  {
   "cell_type": "code",
   "execution_count": 5,
   "metadata": {},
   "outputs": [
    {
     "name": "stdout",
     "output_type": "stream",
     "text": [
      "Enter faculty name: rahulsir\n",
      "Enter the Faculty Id:12345\n"
     ]
    }
   ],
   "source": [
    "add_faculty()"
   ]
  },
  {
   "cell_type": "code",
   "execution_count": 12,
   "metadata": {},
   "outputs": [
    {
     "name": "stdout",
     "output_type": "stream",
     "text": [
      "Faculty name:rahulsir\n",
      "Faculty ID:12345\n",
      "Book issued:{'1111111111111': 6}\n",
      "############\n",
      "Title:dsa\n",
      "Author:ddd\n",
      "ISBN:1111111111111\n",
      "Number of copies:4\n"
     ]
    }
   ],
   "source": [
    "print_faculty()\n",
    "print(\"############\")\n",
    "print_book()"
   ]
  },
  {
   "cell_type": "code",
   "execution_count": null,
   "metadata": {},
   "outputs": [],
   "source": [
    "add_faculty()"
   ]
  },
  {
   "cell_type": "code",
   "execution_count": 10,
   "metadata": {},
   "outputs": [
    {
     "name": "stdout",
     "output_type": "stream",
     "text": [
      "Enter roll number of the student:0187cs171165\n",
      "Enter the isbn number of the book to be issued:1234512345123\n"
     ]
    }
   ],
   "source": [
    "issue_book_student()"
   ]
  },
  {
   "cell_type": "code",
   "execution_count": null,
   "metadata": {},
   "outputs": [
    {
     "name": "stdout",
     "output_type": "stream",
     "text": [
      "Enter the rollno of the student:0187cs171165\n",
      "Enter isbn:1234512345123\n"
     ]
    }
   ],
   "source": [
    "return_book_student()"
   ]
  },
  {
   "cell_type": "code",
   "execution_count": 16,
   "metadata": {},
   "outputs": [
    {
     "name": "stdout",
     "output_type": "stream",
     "text": [
      "Enter the id:12345\n",
      "Enter ISBN No.:1234567890123\n",
      "Enter the number of copies:2\n",
      "Book with 1234567890123 isbn has been issued to employee with eid :12345\n"
     ]
    }
   ],
   "source": [
    "issue_book_faculty()\n"
   ]
  },
  {
   "cell_type": "code",
   "execution_count": 17,
   "metadata": {},
   "outputs": [
    {
     "name": "stdout",
     "output_type": "stream",
     "text": [
      "Faculty name:rahulsir\n",
      "Faculty ID:12345\n",
      "Book issued:{'1234567890123': '2'}\n",
      "*********************\n",
      "Title:dsa\n",
      "Author:ddd\n",
      "ISBN:1234567890123\n",
      "Number of copies:1\n"
     ]
    }
   ],
   "source": [
    "print_faculty()\n",
    "print(\"*********************\")\n",
    "print_book()"
   ]
  },
  {
   "cell_type": "code",
   "execution_count": 1,
   "metadata": {},
   "outputs": [],
   "source": [
    "def stud_disp(rollno):\n",
    "    try:\n",
    "        with open(\"student_record.pkl\",\"rb\") as f:\n",
    "            obj=pickle.load(f)\n",
    "            i=0\n",
    "            while True:\n",
    "                try:\n",
    "                    if obj[i].rollno==rollno:\n",
    "                        display_student(obj[i])\n",
    "                        break\n",
    "                    i+=1\n",
    "                except:\n",
    "                    break\n",
    "    except:\n",
    "        print(\"User not found\")\n",
    "        \n",
    "def fac_disp(eid):\n",
    "    try:\n",
    "        with open(\"faculty_record.pkl\",\"rb\") as f:\n",
    "            obj=pickle.load(f)\n",
    "            i=0\n",
    "            while True:\n",
    "                try:\n",
    "                    if obj[i].eid==eid:\n",
    "                        display_faculty(obj[i])\n",
    "                        break\n",
    "                    i+=1\n",
    "                except:\n",
    "                    break\n",
    "    except:\n",
    "        print(\"User not found\")\n",
    "                                                "
   ]
  },
  {
   "cell_type": "code",
   "execution_count": null,
   "metadata": {},
   "outputs": [],
   "source": [
    "\n",
    "stud_disp(\"0187cs171111\")"
   ]
  },
  {
   "cell_type": "code",
   "execution_count": 8,
   "metadata": {},
   "outputs": [],
   "source": [
    "def issue_book_faculty():\n",
    "    fac_id=input(\"Enter the id:\")\n",
    "    if check_faculty(fac_id):\n",
    "        isbn=input(\"Enter the ISBN:\")\n",
    "        copies=int(input(\"Enter the number of copies:\"))\n",
    "        if check_avail_book(isbn,copies):\n",
    "            with open(\"faculty_record.pkl\",\"rb\") as f:\n",
    "                obj=pickle.load(f)\n",
    "                i=0\n",
    "                while True:\n",
    "                    try:\n",
    "                        if obj[i].eid==fac_id:\n",
    "                            modify_fac(i,isbn,copies)\n",
    "                            modify_book_issue(isbn,copies) \n",
    "                            print(\"Book Issued\")\n",
    "                            break\n",
    "                        i+=1\n",
    "                    except:\n",
    "                        break\n",
    "        else:\n",
    "            print(\"Book does not found in the record\")\n",
    "    else:\n",
    "        print(\"Faculty does not exist!!\")\n",
    "\n",
    "def modify_book_issue(isbn,copies):\n",
    "    with open(\"book_record.pkl\",\"rb\") as f:\n",
    "        obj=pickle.load(f)\n",
    "        i=0\n",
    "        while True:\n",
    "            try:\n",
    "                if obj[i].isbn==isbn:\n",
    "                    with open(\"book_record.pkl\",\"wb\") as f:\n",
    "                        obj[i].copies-=copies\n",
    "                        pickle.dump(obj,f)\n",
    "                    break\n",
    "                i+=1\n",
    "            except :\n",
    "                pass\n",
    "\n",
    "def modify_fac(i,isbn,copies):\n",
    "    with open(\"faculty_record.pkl\",\"rb\") as f:\n",
    "        obj=pickle.load(f)\n",
    "        if isbn in obj[i].fac_dict:\n",
    "            with open(\"faculty_record.pkl\",\"wb\") as f:\n",
    "                obj[i].fac_dict[isbn]+=copies\n",
    "                pickle.dump(obj,f)\n",
    "        else:\n",
    "            with open(\"faculty_record.pkl\",\"wb\") as f:\n",
    "                obj[i].fac_dict[isbn]=copies \n",
    "                pickle.dump(obj,f)\n",
    "            \n",
    "                \n",
    "def check_avail_book(isbn,copies):\n",
    "    with open(\"book_record.pkl\",\"rb\") as f:\n",
    "        obj=pickle.load(f)\n",
    "        i=0\n",
    "        while True:\n",
    "            try:\n",
    "                if obj[i].isbn==isbn and obj[i].copies>=copies: \n",
    "                    return True\n",
    "                i+=1\n",
    "            except:\n",
    "                return False\n"
   ]
  },
  {
   "cell_type": "code",
   "execution_count": 11,
   "metadata": {},
   "outputs": [
    {
     "name": "stdout",
     "output_type": "stream",
     "text": [
      "Enter the id:12345\n",
      "Enter the ISBN:1111111111111\n",
      "Enter the number of copies:1\n",
      "Book Issued\n"
     ]
    }
   ],
   "source": [
    "issue_book_faculty()"
   ]
  },
  {
   "cell_type": "code",
   "execution_count": null,
   "metadata": {},
   "outputs": [
    {
     "name": "stdout",
     "output_type": "stream",
     "text": [
      "Which type of user you are?\n",
      "1. Librarian\n",
      "2. Faculty\n",
      "3. Student\u0004.Exit3\n",
      "Welcome!!\n",
      "1.View user detail\n",
      "2.View books detail\n",
      "3.Search a book\n",
      "4.Exit\n",
      "-->1\n",
      "Enter rollno:0187cs171165\n"
     ]
    }
   ],
   "source": [
    "%run script"
   ]
  },
  {
   "cell_type": "code",
   "execution_count": 19,
   "metadata": {},
   "outputs": [
    {
     "ename": "SyntaxError",
     "evalue": "invalid syntax (<ipython-input-19-3d7e24dfe850>, line 23)",
     "output_type": "error",
     "traceback": [
      "\u001b[1;36m  File \u001b[1;32m\"<ipython-input-19-3d7e24dfe850>\"\u001b[1;36m, line \u001b[1;32m23\u001b[0m\n\u001b[1;33m    del obj[i].fac_dict[isbn][0]-=co\u001b[0m\n\u001b[1;37m                                 ^\u001b[0m\n\u001b[1;31mSyntaxError\u001b[0m\u001b[1;31m:\u001b[0m invalid syntax\n"
     ]
    }
   ],
   "source": [
    "def return_book_faculty():\n",
    "    fac_id=input(\"Enter the Employee id:\")\n",
    "    if check_faculty(fac_id):\n",
    "        isbn=input(\"Enter isbn:\")\n",
    "        if already_have(isbn,fac_id):\n",
    "            modify_fac_return(fac_id,isbn)\n",
    "            co=int(input(\"Enter the no. of copies you want to return\"))\n",
    "            modify_book_return(fac_id,isbn,co)\n",
    "        else:\n",
    "            print(\"Book with this isbn is not issued to this faculty\")\n",
    "    else:\n",
    "        print(\"Faculty not found\")\n",
    "    \n",
    "\n",
    "def modify_fac_return(fac_id,isbn,co):\n",
    "    with open(\"faculty_record.pkl\",\"rb\") as f:\n",
    "        obj=pickle.load(f)\n",
    "        i=0\n",
    "        while True:\n",
    "            try:\n",
    "                if obj[i].eid==fac_id:\n",
    "                    with open(\"faculty_record.pkl\",\"wb\") as f:\n",
    "                        del obj[i].fac_dict[isbn][0]-=co\n",
    "                        pickle.dump(obj,f)\n",
    "                    break\n",
    "                i+=1\n",
    "            except:\n",
    "                pass\n",
    "def modify_book_return(isbn,copies):\n",
    "    with open(\"book_record.pkl\",\"rb\") as f:\n",
    "        obj=pickle.load(f)\n",
    "        i=0\n",
    "        while True:\n",
    "            try:\n",
    "                if obj[i].isbn==str(isbn):\n",
    "                    print(copies)\n",
    "                    obj[i].copies+=int(copies)\n",
    "                    with open(\"book_record.pkl\",\"wb\") as f:\n",
    "                        pickle.dump(obj,f)\n",
    "                    break\n",
    "                i+=1\n",
    "            except:\n",
    "                break\n",
    "\n",
    "def already_have(isbn,fac_id):\n",
    "    with open(\"faculty_record.pkl\",\"rb\") as f:\n",
    "        obj=pickle.load(f)\n",
    "        i=0\n",
    "        while True:\n",
    "            try:\n",
    "                if obj[i].eid==fac_id:\n",
    "                    if isbn in obj[i].fac_dict:\n",
    "                        return True\n",
    "                i+=1\n",
    "            except (EOFError,IndexError):\n",
    "                return False\n"
   ]
  },
  {
   "cell_type": "code",
   "execution_count": 27,
   "metadata": {},
   "outputs": [
    {
     "data": {
      "text/plain": [
       "{1: [7]}"
      ]
     },
     "execution_count": 27,
     "metadata": {},
     "output_type": "execute_result"
    }
   ],
   "source": [
    "d={1:[10]}\n",
    "d[1][0]-=3\n",
    "d"
   ]
  },
  {
   "cell_type": "code",
   "execution_count": 63,
   "metadata": {},
   "outputs": [
    {
     "name": "stdout",
     "output_type": "stream",
     "text": [
      "Enter the Employee id:12345\n",
      "Enter isbn:1234567891234\n",
      "Enter the no. of copies you want to return1\n",
      "1\n"
     ]
    }
   ],
   "source": [
    "return_book_faculty()"
   ]
  },
  {
   "cell_type": "code",
   "execution_count": 64,
   "metadata": {},
   "outputs": [
    {
     "name": "stdout",
     "output_type": "stream",
     "text": [
      "Faculty name:rajeevsir\n",
      "Faculty ID:11111\n",
      "Total number of book issued:{}\n",
      "Faculty name:rahulsir\n",
      "Faculty ID:12345\n",
      "Total number of book issued:{}\n"
     ]
    }
   ],
   "source": [
    "print_faculty()"
   ]
  },
  {
   "cell_type": "code",
   "execution_count": null,
   "metadata": {},
   "outputs": [],
   "source": [
    "from zipfile import *\n",
    "f=ZipFile(\"LMS_ZIPFILE.zip\",\"w\",ZIP_DEFLATED)"
   ]
  }
 ],
 "metadata": {
  "kernelspec": {
   "display_name": "Python 3",
   "language": "python",
   "name": "python3"
  },
  "language_info": {
   "codemirror_mode": {
    "name": "ipython",
    "version": 3
   },
   "file_extension": ".py",
   "mimetype": "text/x-python",
   "name": "python",
   "nbconvert_exporter": "python",
   "pygments_lexer": "ipython3",
   "version": "3.7.1"
  }
 },
 "nbformat": 4,
 "nbformat_minor": 2
}
